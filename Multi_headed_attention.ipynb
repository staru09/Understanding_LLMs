{
 "cells": [
  {
   "cell_type": "code",
   "execution_count": 1,
   "id": "132b34e5",
   "metadata": {
    "_cell_guid": "b1076dfc-b9ad-4769-8c92-a6c4dae69d19",
    "_uuid": "8f2839f25d086af736a60e9eeb907d3b93b6e0e5",
    "execution": {
     "iopub.execute_input": "2024-07-20T09:05:58.529576Z",
     "iopub.status.busy": "2024-07-20T09:05:58.529105Z",
     "iopub.status.idle": "2024-07-20T09:06:02.214492Z",
     "shell.execute_reply": "2024-07-20T09:06:02.212974Z"
    },
    "papermill": {
     "duration": 3.701544,
     "end_time": "2024-07-20T09:06:02.217517",
     "exception": false,
     "start_time": "2024-07-20T09:05:58.515973",
     "status": "completed"
    },
    "tags": []
   },
   "outputs": [],
   "source": [
    "import numpy as np\n",
    "import torch\n",
    "import torch.nn as nn\n",
    "import torch.functional as F"
   ]
  },
  {
   "cell_type": "code",
   "execution_count": 2,
   "id": "affae234",
   "metadata": {
    "execution": {
     "iopub.execute_input": "2024-07-20T09:06:02.241029Z",
     "iopub.status.busy": "2024-07-20T09:06:02.240478Z",
     "iopub.status.idle": "2024-07-20T09:06:02.263615Z",
     "shell.execute_reply": "2024-07-20T09:06:02.262563Z"
    },
    "papermill": {
     "duration": 0.037705,
     "end_time": "2024-07-20T09:06:02.266225",
     "exception": false,
     "start_time": "2024-07-20T09:06:02.228520",
     "status": "completed"
    },
    "tags": []
   },
   "outputs": [],
   "source": [
    "sequence_length = 10\n",
    "batch_size = 2\n",
    "input_dim = 256\n",
    "output_dim = 256\n",
    "x = torch.rand((batch_size,sequence_length,input_dim))"
   ]
  },
  {
   "cell_type": "code",
   "execution_count": 3,
   "id": "c75bf190",
   "metadata": {
    "execution": {
     "iopub.execute_input": "2024-07-20T09:06:02.289314Z",
     "iopub.status.busy": "2024-07-20T09:06:02.288886Z",
     "iopub.status.idle": "2024-07-20T09:06:02.301733Z",
     "shell.execute_reply": "2024-07-20T09:06:02.300528Z"
    },
    "papermill": {
     "duration": 0.027397,
     "end_time": "2024-07-20T09:06:02.304352",
     "exception": false,
     "start_time": "2024-07-20T09:06:02.276955",
     "status": "completed"
    },
    "tags": []
   },
   "outputs": [
    {
     "data": {
      "text/plain": [
       "torch.Size([2, 10, 256])"
      ]
     },
     "execution_count": 3,
     "metadata": {},
     "output_type": "execute_result"
    }
   ],
   "source": [
    "x.size()"
   ]
  },
  {
   "cell_type": "code",
   "execution_count": 4,
   "id": "86d85539",
   "metadata": {
    "execution": {
     "iopub.execute_input": "2024-07-20T09:06:02.328521Z",
     "iopub.status.busy": "2024-07-20T09:06:02.327585Z",
     "iopub.status.idle": "2024-07-20T09:06:02.348069Z",
     "shell.execute_reply": "2024-07-20T09:06:02.346899Z"
    },
    "papermill": {
     "duration": 0.035706,
     "end_time": "2024-07-20T09:06:02.351035",
     "exception": false,
     "start_time": "2024-07-20T09:06:02.315329",
     "status": "completed"
    },
    "tags": []
   },
   "outputs": [],
   "source": [
    "qkv_layer = nn.Linear(input_dim,3*output_dim)"
   ]
  },
  {
   "cell_type": "code",
   "execution_count": 5,
   "id": "95943d70",
   "metadata": {
    "execution": {
     "iopub.execute_input": "2024-07-20T09:06:02.374848Z",
     "iopub.status.busy": "2024-07-20T09:06:02.374389Z",
     "iopub.status.idle": "2024-07-20T09:06:02.416079Z",
     "shell.execute_reply": "2024-07-20T09:06:02.414785Z"
    },
    "papermill": {
     "duration": 0.056944,
     "end_time": "2024-07-20T09:06:02.419034",
     "exception": false,
     "start_time": "2024-07-20T09:06:02.362090",
     "status": "completed"
    },
    "tags": []
   },
   "outputs": [],
   "source": [
    "qkv = qkv_layer(x)"
   ]
  },
  {
   "cell_type": "code",
   "execution_count": 6,
   "id": "ce2c3e89",
   "metadata": {
    "execution": {
     "iopub.execute_input": "2024-07-20T09:06:02.443980Z",
     "iopub.status.busy": "2024-07-20T09:06:02.443531Z",
     "iopub.status.idle": "2024-07-20T09:06:02.451039Z",
     "shell.execute_reply": "2024-07-20T09:06:02.449918Z"
    },
    "papermill": {
     "duration": 0.022276,
     "end_time": "2024-07-20T09:06:02.453652",
     "exception": false,
     "start_time": "2024-07-20T09:06:02.431376",
     "status": "completed"
    },
    "tags": []
   },
   "outputs": [
    {
     "data": {
      "text/plain": [
       "torch.Size([2, 10, 768])"
      ]
     },
     "execution_count": 6,
     "metadata": {},
     "output_type": "execute_result"
    }
   ],
   "source": [
    "qkv.shape"
   ]
  },
  {
   "cell_type": "code",
   "execution_count": 7,
   "id": "e5b61ba7",
   "metadata": {
    "execution": {
     "iopub.execute_input": "2024-07-20T09:06:02.479476Z",
     "iopub.status.busy": "2024-07-20T09:06:02.478504Z",
     "iopub.status.idle": "2024-07-20T09:06:03.302063Z",
     "shell.execute_reply": "2024-07-20T09:06:03.300782Z"
    },
    "papermill": {
     "duration": 0.839961,
     "end_time": "2024-07-20T09:06:03.305049",
     "exception": false,
     "start_time": "2024-07-20T09:06:02.465088",
     "status": "completed"
    },
    "tags": []
   },
   "outputs": [
    {
     "data": {
      "text/plain": [
       "Text(0.5, 1.0, 'qkv distribution')"
      ]
     },
     "execution_count": 7,
     "metadata": {},
     "output_type": "execute_result"
    },
    {
     "data": {
      "image/png": "[encoded data removed]",
      "text/plain": [
       "<Figure size 640x480 with 1 Axes>"
      ]
     },
     "metadata": {},
     "output_type": "display_data"
    }
   ],
   "source": [
    "import matplotlib.pyplot as plt\n",
    "y_val = torch.histc(qkv,bins=200,min=3,max=3)\n",
    "x_val =  np.arange(-1,1,0.01)*3\n",
    "plt.bar(x_val,y_val,align='center',color=['skyblue'])\n",
    "plt.title('qkv distribution')"
   ]
  },
  {
   "cell_type": "code",
   "execution_count": 8,
   "id": "54acc70b",
   "metadata": {
    "execution": {
     "iopub.execute_input": "2024-07-20T09:06:03.332222Z",
     "iopub.status.busy": "2024-07-20T09:06:03.331811Z",
     "iopub.status.idle": "2024-07-20T09:06:03.340660Z",
     "shell.execute_reply": "2024-07-20T09:06:03.339289Z"
    },
    "papermill": {
     "duration": 0.024632,
     "end_time": "2024-07-20T09:06:03.343127",
     "exception": false,
     "start_time": "2024-07-20T09:06:03.318495",
     "status": "completed"
    },
    "tags": []
   },
   "outputs": [
    {
     "data": {
      "text/plain": [
       "torch.Size([2, 10, 8, 96])"
      ]
     },
     "execution_count": 8,
     "metadata": {},
     "output_type": "execute_result"
    }
   ],
   "source": [
    "num_heads = 8\n",
    "head_dim = output_dim//num_heads\n",
    "qkv = qkv.reshape(batch_size,sequence_length,num_heads,3*head_dim)\n",
    "qkv.shape"
   ]
  },
  {
   "cell_type": "code",
   "execution_count": 9,
   "id": "8b5ad103",
   "metadata": {
    "execution": {
     "iopub.execute_input": "2024-07-20T09:06:03.368427Z",
     "iopub.status.busy": "2024-07-20T09:06:03.367954Z",
     "iopub.status.idle": "2024-07-20T09:06:03.376378Z",
     "shell.execute_reply": "2024-07-20T09:06:03.375167Z"
    },
    "papermill": {
     "duration": 0.024113,
     "end_time": "2024-07-20T09:06:03.378866",
     "exception": false,
     "start_time": "2024-07-20T09:06:03.354753",
     "status": "completed"
    },
    "tags": []
   },
   "outputs": [
    {
     "data": {
      "text/plain": [
       "torch.Size([2, 8, 10, 96])"
      ]
     },
     "execution_count": 9,
     "metadata": {},
     "output_type": "execute_result"
    }
   ],
   "source": [
    "qkv = qkv.permute(0,2,1,3)\n",
    "qkv.shape"
   ]
  },
  {
   "cell_type": "code",
   "execution_count": 10,
   "id": "64bddcc9",
   "metadata": {
    "execution": {
     "iopub.execute_input": "2024-07-20T09:06:03.404351Z",
     "iopub.status.busy": "2024-07-20T09:06:03.403884Z",
     "iopub.status.idle": "2024-07-20T09:06:03.416071Z",
     "shell.execute_reply": "2024-07-20T09:06:03.414791Z"
    },
    "papermill": {
     "duration": 0.027913,
     "end_time": "2024-07-20T09:06:03.418801",
     "exception": false,
     "start_time": "2024-07-20T09:06:03.390888",
     "status": "completed"
    },
    "tags": []
   },
   "outputs": [
    {
     "data": {
      "text/plain": [
       "(torch.Size([2, 8, 10, 32]),\n",
       " torch.Size([2, 8, 10, 32]),\n",
       " torch.Size([2, 8, 10, 32]))"
      ]
     },
     "execution_count": 10,
     "metadata": {},
     "output_type": "execute_result"
    }
   ],
   "source": [
    "q,k,v = qkv.chunk(3,dim=-1)\n",
    "q.shape,k.shape,v.shape"
   ]
  },
  {
   "cell_type": "code",
   "execution_count": 11,
   "id": "49a70b1c",
   "metadata": {
    "execution": {
     "iopub.execute_input": "2024-07-20T09:06:03.445664Z",
     "iopub.status.busy": "2024-07-20T09:06:03.444518Z",
     "iopub.status.idle": "2024-07-20T09:06:03.465332Z",
     "shell.execute_reply": "2024-07-20T09:06:03.463907Z"
    },
    "papermill": {
     "duration": 0.036905,
     "end_time": "2024-07-20T09:06:03.468057",
     "exception": false,
     "start_time": "2024-07-20T09:06:03.431152",
     "status": "completed"
    },
    "tags": []
   },
   "outputs": [],
   "source": [
    "import math\n",
    "d_k = q.size(3)\n",
    "scaled = torch.matmul(q,k.transpose(-2,-1))/math.sqrt(d_k)"
   ]
  },
  {
   "cell_type": "code",
   "execution_count": 12,
   "id": "44ab6553",
   "metadata": {
    "execution": {
     "iopub.execute_input": "2024-07-20T09:06:03.495417Z",
     "iopub.status.busy": "2024-07-20T09:06:03.494963Z",
     "iopub.status.idle": "2024-07-20T09:06:03.506145Z",
     "shell.execute_reply": "2024-07-20T09:06:03.504775Z"
    },
    "papermill": {
     "duration": 0.027493,
     "end_time": "2024-07-20T09:06:03.508653",
     "exception": false,
     "start_time": "2024-07-20T09:06:03.481160",
     "status": "completed"
    },
    "tags": []
   },
   "outputs": [
    {
     "name": "stdout",
     "output_type": "stream",
     "text": [
      "torch.Size([2, 8, 10, 10])\n"
     ]
    },
    {
     "name": "stderr",
     "output_type": "stream",
     "text": [
      "/tmp/ipykernel_18/62803528.py:2: UserWarning: The use of `x.T` on tensors of dimension other than 2 to reverse their shape is deprecated and it will throw an error in a future release. Consider `x.mT` to transpose batches of matrices or `x.permute(*torch.arange(x.ndim - 1, -1, -1))` to reverse the dimensions of a tensor. (Triggered internally at ../aten/src/ATen/native/TensorShape.cpp:3614.)\n",
      "  k.T.shape\n"
     ]
    },
    {
     "data": {
      "text/plain": [
       "torch.Size([32, 10, 8, 2])"
      ]
     },
     "execution_count": 12,
     "metadata": {},
     "output_type": "execute_result"
    }
   ],
   "source": [
    "print(scaled.shape)\n",
    "k.T.shape"
   ]
  },
  {
   "cell_type": "code",
   "execution_count": 13,
   "id": "a3cfc80e",
   "metadata": {
    "execution": {
     "iopub.execute_input": "2024-07-20T09:06:03.535967Z",
     "iopub.status.busy": "2024-07-20T09:06:03.535261Z",
     "iopub.status.idle": "2024-07-20T09:06:03.566055Z",
     "shell.execute_reply": "2024-07-20T09:06:03.564854Z"
    },
    "papermill": {
     "duration": 0.04782,
     "end_time": "2024-07-20T09:06:03.568915",
     "exception": false,
     "start_time": "2024-07-20T09:06:03.521095",
     "status": "completed"
    },
    "tags": []
   },
   "outputs": [
    {
     "data": {
      "text/plain": [
       "tensor([[0.6594, 0.5554],\n",
       "        [0.9320, 0.4679],\n",
       "        [0.1027, 0.3177]])"
      ]
     },
     "execution_count": 13,
     "metadata": {},
     "output_type": "execute_result"
    }
   ],
   "source": [
    "y =  torch.rand(2,3)\n",
    "torch.transpose(y,0,1)\n",
    "torch.transpose(y,1,0)"
   ]
  },
  {
   "cell_type": "code",
   "execution_count": 14,
   "id": "949078f7",
   "metadata": {
    "_kg_hide-output": true,
    "execution": {
     "iopub.execute_input": "2024-07-20T09:06:03.595669Z",
     "iopub.status.busy": "2024-07-20T09:06:03.595220Z",
     "iopub.status.idle": "2024-07-20T09:06:03.606250Z",
     "shell.execute_reply": "2024-07-20T09:06:03.604283Z"
    },
    "papermill": {
     "duration": 0.027735,
     "end_time": "2024-07-20T09:06:03.609173",
     "exception": false,
     "start_time": "2024-07-20T09:06:03.581438",
     "status": "completed"
    },
    "tags": []
   },
   "outputs": [
    {
     "data": {
      "text/plain": [
       "tensor([[0., -inf, -inf, -inf, -inf, -inf, -inf, -inf, -inf, -inf],\n",
       "        [0., 0., -inf, -inf, -inf, -inf, -inf, -inf, -inf, -inf],\n",
       "        [0., 0., 0., -inf, -inf, -inf, -inf, -inf, -inf, -inf],\n",
       "        [0., 0., 0., 0., -inf, -inf, -inf, -inf, -inf, -inf],\n",
       "        [0., 0., 0., 0., 0., -inf, -inf, -inf, -inf, -inf],\n",
       "        [0., 0., 0., 0., 0., 0., -inf, -inf, -inf, -inf],\n",
       "        [0., 0., 0., 0., 0., 0., 0., -inf, -inf, -inf],\n",
       "        [0., 0., 0., 0., 0., 0., 0., 0., -inf, -inf],\n",
       "        [0., 0., 0., 0., 0., 0., 0., 0., 0., -inf],\n",
       "        [0., 0., 0., 0., 0., 0., 0., 0., 0., 0.]])"
      ]
     },
     "execution_count": 14,
     "metadata": {},
     "output_type": "execute_result"
    }
   ],
   "source": [
    "mask = torch.full(scaled.size(),float('-inf'))\n",
    "mask = torch.triu(mask,diagonal=1)\n",
    "mask[0][1]"
   ]
  },
  {
   "cell_type": "code",
   "execution_count": 15,
   "id": "f4853a0d",
   "metadata": {
    "execution": {
     "iopub.execute_input": "2024-07-20T09:06:03.645082Z",
     "iopub.status.busy": "2024-07-20T09:06:03.643628Z",
     "iopub.status.idle": "2024-07-20T09:06:03.657628Z",
     "shell.execute_reply": "2024-07-20T09:06:03.656172Z"
    },
    "papermill": {
     "duration": 0.03625,
     "end_time": "2024-07-20T09:06:03.660868",
     "exception": false,
     "start_time": "2024-07-20T09:06:03.624618",
     "status": "completed"
    },
    "tags": []
   },
   "outputs": [
    {
     "data": {
      "text/plain": [
       "tensor([[-0.0102,    -inf,    -inf,    -inf,    -inf,    -inf,    -inf,    -inf,\n",
       "            -inf,    -inf],\n",
       "        [ 0.0063,  0.0471,    -inf,    -inf,    -inf,    -inf,    -inf,    -inf,\n",
       "            -inf,    -inf],\n",
       "        [ 0.0182,  0.0738,  0.2238,    -inf,    -inf,    -inf,    -inf,    -inf,\n",
       "            -inf,    -inf],\n",
       "        [-0.0793, -0.0257,  0.1136, -0.0170,    -inf,    -inf,    -inf,    -inf,\n",
       "            -inf,    -inf],\n",
       "        [ 0.0350,  0.0574,  0.2112,  0.1005,  0.0662,    -inf,    -inf,    -inf,\n",
       "            -inf,    -inf],\n",
       "        [-0.0541,  0.0148,  0.1442, -0.0186, -0.0209,  0.0394,    -inf,    -inf,\n",
       "            -inf,    -inf],\n",
       "        [-0.0993, -0.1176,  0.1115, -0.0407, -0.0528,  0.0303,  0.0810,    -inf,\n",
       "            -inf,    -inf],\n",
       "        [ 0.0453,  0.0939,  0.2177,  0.0732,  0.0623,  0.0658,  0.1579,  0.0947,\n",
       "            -inf,    -inf],\n",
       "        [-0.0159, -0.0340,  0.1397, -0.0177, -0.0411, -0.0114,  0.0121, -0.0468,\n",
       "          0.0298,    -inf],\n",
       "        [-0.0635, -0.0935,  0.0708, -0.0838, -0.0833, -0.0889, -0.0165, -0.1187,\n",
       "         -0.0949, -0.0519]], grad_fn=<SelectBackward0>)"
      ]
     },
     "execution_count": 15,
     "metadata": {},
     "output_type": "execute_result"
    }
   ],
   "source": [
    "(scaled+mask)[0][0]"
   ]
  },
  {
   "cell_type": "code",
   "execution_count": 16,
   "id": "36f5ded8",
   "metadata": {
    "execution": {
     "iopub.execute_input": "2024-07-20T09:06:03.692065Z",
     "iopub.status.busy": "2024-07-20T09:06:03.691617Z",
     "iopub.status.idle": "2024-07-20T09:06:03.697231Z",
     "shell.execute_reply": "2024-07-20T09:06:03.696067Z"
    },
    "papermill": {
     "duration": 0.022238,
     "end_time": "2024-07-20T09:06:03.699687",
     "exception": false,
     "start_time": "2024-07-20T09:06:03.677449",
     "status": "completed"
    },
    "tags": []
   },
   "outputs": [],
   "source": [
    "scaled += mask"
   ]
  },
  {
   "cell_type": "code",
   "execution_count": 17,
   "id": "113a17bd",
   "metadata": {
    "execution": {
     "iopub.execute_input": "2024-07-20T09:06:03.728148Z",
     "iopub.status.busy": "2024-07-20T09:06:03.727688Z",
     "iopub.status.idle": "2024-07-20T09:06:03.735872Z",
     "shell.execute_reply": "2024-07-20T09:06:03.734618Z"
    },
    "papermill": {
     "duration": 0.025443,
     "end_time": "2024-07-20T09:06:03.738487",
     "exception": false,
     "start_time": "2024-07-20T09:06:03.713044",
     "status": "completed"
    },
    "tags": []
   },
   "outputs": [
    {
     "data": {
      "text/plain": [
       "0.5388217044001664"
      ]
     },
     "execution_count": 17,
     "metadata": {},
     "output_type": "execute_result"
    }
   ],
   "source": [
    "np.exp(0.5596)/(np.exp(0.5596)+np.exp(0.404))"
   ]
  },
  {
   "cell_type": "code",
   "execution_count": 18,
   "id": "cffb1173",
   "metadata": {
    "execution": {
     "iopub.execute_input": "2024-07-20T09:06:03.777477Z",
     "iopub.status.busy": "2024-07-20T09:06:03.776238Z",
     "iopub.status.idle": "2024-07-20T09:06:03.786755Z",
     "shell.execute_reply": "2024-07-20T09:06:03.785061Z"
    },
    "papermill": {
     "duration": 0.033015,
     "end_time": "2024-07-20T09:06:03.790313",
     "exception": false,
     "start_time": "2024-07-20T09:06:03.757298",
     "status": "completed"
    },
    "tags": []
   },
   "outputs": [],
   "source": [
    "attention = torch.nn.functional.softmax(scaled,dim=-1)"
   ]
  },
  {
   "cell_type": "code",
   "execution_count": 19,
   "id": "ee3b2eaf",
   "metadata": {
    "execution": {
     "iopub.execute_input": "2024-07-20T09:06:03.831080Z",
     "iopub.status.busy": "2024-07-20T09:06:03.829848Z",
     "iopub.status.idle": "2024-07-20T09:06:03.838679Z",
     "shell.execute_reply": "2024-07-20T09:06:03.837396Z"
    },
    "papermill": {
     "duration": 0.033814,
     "end_time": "2024-07-20T09:06:03.842091",
     "exception": false,
     "start_time": "2024-07-20T09:06:03.808277",
     "status": "completed"
    },
    "tags": []
   },
   "outputs": [
    {
     "data": {
      "text/plain": [
       "torch.Size([2, 8, 10, 10])"
      ]
     },
     "execution_count": 19,
     "metadata": {},
     "output_type": "execute_result"
    }
   ],
   "source": [
    "attention.shape"
   ]
  },
  {
   "cell_type": "code",
   "execution_count": 20,
   "id": "47cc51f5",
   "metadata": {
    "execution": {
     "iopub.execute_input": "2024-07-20T09:06:03.883685Z",
     "iopub.status.busy": "2024-07-20T09:06:03.882618Z",
     "iopub.status.idle": "2024-07-20T09:06:03.894609Z",
     "shell.execute_reply": "2024-07-20T09:06:03.893646Z"
    },
    "papermill": {
     "duration": 0.039286,
     "end_time": "2024-07-20T09:06:03.898602",
     "exception": false,
     "start_time": "2024-07-20T09:06:03.859316",
     "status": "completed"
    },
    "tags": []
   },
   "outputs": [
    {
     "data": {
      "text/plain": [
       "tensor([[1.0000, 0.0000, 0.0000, 0.0000, 0.0000, 0.0000, 0.0000, 0.0000, 0.0000,\n",
       "         0.0000],\n",
       "        [0.4898, 0.5102, 0.0000, 0.0000, 0.0000, 0.0000, 0.0000, 0.0000, 0.0000,\n",
       "         0.0000],\n",
       "        [0.3044, 0.3218, 0.3739, 0.0000, 0.0000, 0.0000, 0.0000, 0.0000, 0.0000,\n",
       "         0.0000],\n",
       "        [0.2308, 0.2435, 0.2799, 0.2457, 0.0000, 0.0000, 0.0000, 0.0000, 0.0000,\n",
       "         0.0000],\n",
       "        [0.1882, 0.1924, 0.2244, 0.2009, 0.1941, 0.0000, 0.0000, 0.0000, 0.0000,\n",
       "         0.0000],\n",
       "        [0.1548, 0.1659, 0.1888, 0.1604, 0.1601, 0.1700, 0.0000, 0.0000, 0.0000,\n",
       "         0.0000],\n",
       "        [0.1305, 0.1282, 0.1612, 0.1384, 0.1368, 0.1486, 0.1563, 0.0000, 0.0000,\n",
       "         0.0000],\n",
       "        [0.1180, 0.1239, 0.1402, 0.1213, 0.1200, 0.1204, 0.1321, 0.1240, 0.0000,\n",
       "         0.0000],\n",
       "        [0.1090, 0.1071, 0.1274, 0.1088, 0.1063, 0.1095, 0.1121, 0.1057, 0.1141,\n",
       "         0.0000],\n",
       "        [0.0998, 0.0968, 0.1141, 0.0978, 0.0978, 0.0973, 0.1046, 0.0944, 0.0967,\n",
       "         0.1009]], grad_fn=<SelectBackward0>)"
      ]
     },
     "execution_count": 20,
     "metadata": {},
     "output_type": "execute_result"
    }
   ],
   "source": [
    "attention[0][0]"
   ]
  },
  {
   "cell_type": "code",
   "execution_count": 21,
   "id": "102fec29",
   "metadata": {
    "execution": {
     "iopub.execute_input": "2024-07-20T09:06:03.941665Z",
     "iopub.status.busy": "2024-07-20T09:06:03.941013Z",
     "iopub.status.idle": "2024-07-20T09:06:03.949891Z",
     "shell.execute_reply": "2024-07-20T09:06:03.948664Z"
    },
    "papermill": {
     "duration": 0.036874,
     "end_time": "2024-07-20T09:06:03.956134",
     "exception": false,
     "start_time": "2024-07-20T09:06:03.919260",
     "status": "completed"
    },
    "tags": []
   },
   "outputs": [
    {
     "data": {
      "text/plain": [
       "torch.Size([2, 8, 10, 32])"
      ]
     },
     "execution_count": 21,
     "metadata": {},
     "output_type": "execute_result"
    }
   ],
   "source": [
    "values = torch.matmul(attention,v)\n",
    "values.shape"
   ]
  },
  {
   "cell_type": "code",
   "execution_count": 22,
   "id": "38f92037",
   "metadata": {
    "execution": {
     "iopub.execute_input": "2024-07-20T09:06:03.999589Z",
     "iopub.status.busy": "2024-07-20T09:06:03.998313Z",
     "iopub.status.idle": "2024-07-20T09:06:04.012189Z",
     "shell.execute_reply": "2024-07-20T09:06:04.008640Z"
    },
    "papermill": {
     "duration": 0.036895,
     "end_time": "2024-07-20T09:06:04.015439",
     "exception": false,
     "start_time": "2024-07-20T09:06:03.978544",
     "status": "completed"
    },
    "tags": []
   },
   "outputs": [],
   "source": [
    "def scaled_dot_product(q,k,v,mask=None):\n",
    "    d_k = q.size()[-1]\n",
    "    scaled = torch.matmul(q,k.transpose(-1,-2))/math.sqrt(d_k)\n",
    "    if mask is not None:\n",
    "        scaled += mask\n",
    "    attention = torch.nn.functional.softmax(scaled,dim=-1)\n",
    "    values = torch.matmul(attention,v)\n",
    "    return values,attention\n"
   ]
  },
  {
   "cell_type": "code",
   "execution_count": 23,
   "id": "8581bc8a",
   "metadata": {
    "execution": {
     "iopub.execute_input": "2024-07-20T09:06:04.055649Z",
     "iopub.status.busy": "2024-07-20T09:06:04.055216Z",
     "iopub.status.idle": "2024-07-20T09:06:04.065158Z",
     "shell.execute_reply": "2024-07-20T09:06:04.063433Z"
    },
    "papermill": {
     "duration": 0.033376,
     "end_time": "2024-07-20T09:06:04.068033",
     "exception": false,
     "start_time": "2024-07-20T09:06:04.034657",
     "status": "completed"
    },
    "tags": []
   },
   "outputs": [],
   "source": [
    "values,attention =  scaled_dot_product(q,k,v,mask=mask)"
   ]
  },
  {
   "cell_type": "code",
   "execution_count": 24,
   "id": "27730e07",
   "metadata": {
    "execution": {
     "iopub.execute_input": "2024-07-20T09:06:04.098544Z",
     "iopub.status.busy": "2024-07-20T09:06:04.097875Z",
     "iopub.status.idle": "2024-07-20T09:06:04.106709Z",
     "shell.execute_reply": "2024-07-20T09:06:04.105223Z"
    },
    "papermill": {
     "duration": 0.026616,
     "end_time": "2024-07-20T09:06:04.109403",
     "exception": false,
     "start_time": "2024-07-20T09:06:04.082787",
     "status": "completed"
    },
    "tags": []
   },
   "outputs": [
    {
     "data": {
      "text/plain": [
       "torch.Size([2, 8, 10, 10])"
      ]
     },
     "execution_count": 24,
     "metadata": {},
     "output_type": "execute_result"
    }
   ],
   "source": [
    "attention.shape"
   ]
  },
  {
   "cell_type": "code",
   "execution_count": 25,
   "id": "18e48087",
   "metadata": {
    "execution": {
     "iopub.execute_input": "2024-07-20T09:06:04.145896Z",
     "iopub.status.busy": "2024-07-20T09:06:04.145321Z",
     "iopub.status.idle": "2024-07-20T09:06:04.155904Z",
     "shell.execute_reply": "2024-07-20T09:06:04.154314Z"
    },
    "papermill": {
     "duration": 0.035496,
     "end_time": "2024-07-20T09:06:04.158973",
     "exception": false,
     "start_time": "2024-07-20T09:06:04.123477",
     "status": "completed"
    },
    "tags": []
   },
   "outputs": [
    {
     "data": {
      "text/plain": [
       "tensor([[1.0000, 0.0000, 0.0000, 0.0000, 0.0000, 0.0000, 0.0000, 0.0000, 0.0000,\n",
       "         0.0000],\n",
       "        [0.4898, 0.5102, 0.0000, 0.0000, 0.0000, 0.0000, 0.0000, 0.0000, 0.0000,\n",
       "         0.0000],\n",
       "        [0.3044, 0.3218, 0.3739, 0.0000, 0.0000, 0.0000, 0.0000, 0.0000, 0.0000,\n",
       "         0.0000],\n",
       "        [0.2308, 0.2435, 0.2799, 0.2457, 0.0000, 0.0000, 0.0000, 0.0000, 0.0000,\n",
       "         0.0000],\n",
       "        [0.1882, 0.1924, 0.2244, 0.2009, 0.1941, 0.0000, 0.0000, 0.0000, 0.0000,\n",
       "         0.0000],\n",
       "        [0.1548, 0.1659, 0.1888, 0.1604, 0.1601, 0.1700, 0.0000, 0.0000, 0.0000,\n",
       "         0.0000],\n",
       "        [0.1305, 0.1282, 0.1612, 0.1384, 0.1368, 0.1486, 0.1563, 0.0000, 0.0000,\n",
       "         0.0000],\n",
       "        [0.1180, 0.1239, 0.1402, 0.1213, 0.1200, 0.1204, 0.1321, 0.1240, 0.0000,\n",
       "         0.0000],\n",
       "        [0.1090, 0.1071, 0.1274, 0.1088, 0.1063, 0.1095, 0.1121, 0.1057, 0.1141,\n",
       "         0.0000],\n",
       "        [0.0998, 0.0968, 0.1141, 0.0978, 0.0978, 0.0973, 0.1046, 0.0944, 0.0967,\n",
       "         0.1009]], grad_fn=<SelectBackward0>)"
      ]
     },
     "execution_count": 25,
     "metadata": {},
     "output_type": "execute_result"
    }
   ],
   "source": [
    "attention[0][0]"
   ]
  },
  {
   "cell_type": "code",
   "execution_count": 26,
   "id": "c502e737",
   "metadata": {
    "execution": {
     "iopub.execute_input": "2024-07-20T09:06:04.194125Z",
     "iopub.status.busy": "2024-07-20T09:06:04.193626Z",
     "iopub.status.idle": "2024-07-20T09:06:04.201549Z",
     "shell.execute_reply": "2024-07-20T09:06:04.200191Z"
    },
    "papermill": {
     "duration": 0.026566,
     "end_time": "2024-07-20T09:06:04.204410",
     "exception": false,
     "start_time": "2024-07-20T09:06:04.177844",
     "status": "completed"
    },
    "tags": []
   },
   "outputs": [
    {
     "data": {
      "text/plain": [
       "torch.Size([2, 8, 10, 32])"
      ]
     },
     "execution_count": 26,
     "metadata": {},
     "output_type": "execute_result"
    }
   ],
   "source": [
    "values.size()"
   ]
  },
  {
   "cell_type": "code",
   "execution_count": 27,
   "id": "3df1c138",
   "metadata": {
    "execution": {
     "iopub.execute_input": "2024-07-20T09:06:04.235583Z",
     "iopub.status.busy": "2024-07-20T09:06:04.235149Z",
     "iopub.status.idle": "2024-07-20T09:06:04.244194Z",
     "shell.execute_reply": "2024-07-20T09:06:04.242636Z"
    },
    "papermill": {
     "duration": 0.027398,
     "end_time": "2024-07-20T09:06:04.246896",
     "exception": false,
     "start_time": "2024-07-20T09:06:04.219498",
     "status": "completed"
    },
    "tags": []
   },
   "outputs": [
    {
     "data": {
      "text/plain": [
       "torch.Size([2, 10, 256])"
      ]
     },
     "execution_count": 27,
     "metadata": {},
     "output_type": "execute_result"
    }
   ],
   "source": [
    "values = values.reshape(batch_size,sequence_length,num_heads*head_dim)\n",
    "values.size()"
   ]
  },
  {
   "cell_type": "code",
   "execution_count": 28,
   "id": "29d0a45c",
   "metadata": {
    "execution": {
     "iopub.execute_input": "2024-07-20T09:06:04.277832Z",
     "iopub.status.busy": "2024-07-20T09:06:04.277271Z",
     "iopub.status.idle": "2024-07-20T09:06:04.284881Z",
     "shell.execute_reply": "2024-07-20T09:06:04.283645Z"
    },
    "papermill": {
     "duration": 0.026441,
     "end_time": "2024-07-20T09:06:04.287747",
     "exception": false,
     "start_time": "2024-07-20T09:06:04.261306",
     "status": "completed"
    },
    "tags": []
   },
   "outputs": [],
   "source": [
    "linear_layer = nn.Linear(output_dim,output_dim)"
   ]
  },
  {
   "cell_type": "code",
   "execution_count": 29,
   "id": "78ddde36",
   "metadata": {
    "execution": {
     "iopub.execute_input": "2024-07-20T09:06:04.319108Z",
     "iopub.status.busy": "2024-07-20T09:06:04.318042Z",
     "iopub.status.idle": "2024-07-20T09:06:04.324141Z",
     "shell.execute_reply": "2024-07-20T09:06:04.322979Z"
    },
    "papermill": {
     "duration": 0.024426,
     "end_time": "2024-07-20T09:06:04.326626",
     "exception": false,
     "start_time": "2024-07-20T09:06:04.302200",
     "status": "completed"
    },
    "tags": []
   },
   "outputs": [],
   "source": [
    "out =  linear_layer(values)"
   ]
  },
  {
   "cell_type": "code",
   "execution_count": 30,
   "id": "5325855a",
   "metadata": {
    "execution": {
     "iopub.execute_input": "2024-07-20T09:06:04.362982Z",
     "iopub.status.busy": "2024-07-20T09:06:04.361772Z",
     "iopub.status.idle": "2024-07-20T09:06:04.369497Z",
     "shell.execute_reply": "2024-07-20T09:06:04.368205Z"
    },
    "papermill": {
     "duration": 0.028243,
     "end_time": "2024-07-20T09:06:04.372025",
     "exception": false,
     "start_time": "2024-07-20T09:06:04.343782",
     "status": "completed"
    },
    "tags": []
   },
   "outputs": [
    {
     "data": {
      "text/plain": [
       "torch.Size([2, 10, 256])"
      ]
     },
     "execution_count": 30,
     "metadata": {},
     "output_type": "execute_result"
    }
   ],
   "source": [
    "out.shape"
   ]
  },
  {
   "cell_type": "code",
   "execution_count": 31,
   "id": "33901b0c",
   "metadata": {
    "execution": {
     "iopub.execute_input": "2024-07-20T09:06:04.402742Z",
     "iopub.status.busy": "2024-07-20T09:06:04.402271Z",
     "iopub.status.idle": "2024-07-20T09:06:04.418289Z",
     "shell.execute_reply": "2024-07-20T09:06:04.417157Z"
    },
    "papermill": {
     "duration": 0.034934,
     "end_time": "2024-07-20T09:06:04.421121",
     "exception": false,
     "start_time": "2024-07-20T09:06:04.386187",
     "status": "completed"
    },
    "tags": []
   },
   "outputs": [],
   "source": [
    "import torch\n",
    "import torch.nn as nn\n",
    "import math\n",
    "\n",
    "def scaled_dot_product(q, k, v, mask=None):\n",
    "    d_k = q.size()[-1]\n",
    "    scaled = torch.matmul(q, k.transpose(-1, -2)) / math.sqrt(d_k)\n",
    "    if mask is not None:\n",
    "        scaled += mask\n",
    "    attention = torch.nn.functional.softmax(scaled, dim=-1)\n",
    "    values = torch.matmul(attention, v)\n",
    "    return values, attention\n",
    "\n",
    "class MultiheadAttention(nn.Module):\n",
    "\n",
    "    def __init__(self, input_dim, d_model, num_heads):\n",
    "        super().__init__()\n",
    "        self.input_dim = input_dim\n",
    "        self.d_model = d_model\n",
    "        self.num_heads = num_heads\n",
    "        self.head_dim = d_model // num_heads\n",
    "        self.qkv_layer = nn.Linear(input_dim , 3 * d_model)\n",
    "        self.linear_layer = nn.Linear(d_model, d_model)\n",
    "    \n",
    "    def forward(self, x, mask=None):\n",
    "        batch_size, sequence_length, input_dim = x.size()\n",
    "        print(f\"x.size(): {x.size()}\")\n",
    "        qkv = self.qkv_layer(x)\n",
    "        print(f\"qkv.size(): {qkv.size()}\")\n",
    "        qkv = qkv.reshape(batch_size, sequence_length, self.num_heads, 3 * self.head_dim)\n",
    "        print(f\"qkv.size(): {qkv.size()}\")\n",
    "        qkv = qkv.permute(0, 2, 1, 3)\n",
    "        print(f\"qkv.size(): {qkv.size()}\")\n",
    "        q, k, v = qkv.chunk(3, dim=-1)\n",
    "        print(f\"q size: {q.size()}, k size: {k.size()}, v size: {v.size()}, \")\n",
    "        values, attention = scaled_dot_product(q, k, v, mask)\n",
    "        print(f\"values.size(): {values.size()}, attention.size:{ attention.size()} \")\n",
    "        values = values.reshape(batch_size, sequence_length, self.num_heads * self.head_dim)\n",
    "        print(f\"values.size(): {values.size()}\")\n",
    "        out = self.linear_layer(values)\n",
    "        print(f\"out.size(): {out.size()}\")\n",
    "        return out\n"
   ]
  },
  {
   "cell_type": "code",
   "execution_count": 32,
   "id": "ab79b409",
   "metadata": {
    "execution": {
     "iopub.execute_input": "2024-07-20T09:06:04.459769Z",
     "iopub.status.busy": "2024-07-20T09:06:04.459331Z",
     "iopub.status.idle": "2024-07-20T09:06:04.509643Z",
     "shell.execute_reply": "2024-07-20T09:06:04.508338Z"
    },
    "papermill": {
     "duration": 0.071592,
     "end_time": "2024-07-20T09:06:04.512247",
     "exception": false,
     "start_time": "2024-07-20T09:06:04.440655",
     "status": "completed"
    },
    "tags": []
   },
   "outputs": [
    {
     "name": "stdout",
     "output_type": "stream",
     "text": [
      "x.size(): torch.Size([30, 5, 1024])\n",
      "qkv.size(): torch.Size([30, 5, 1536])\n",
      "qkv.size(): torch.Size([30, 5, 8, 192])\n",
      "qkv.size(): torch.Size([30, 8, 5, 192])\n",
      "q size: torch.Size([30, 8, 5, 64]), k size: torch.Size([30, 8, 5, 64]), v size: torch.Size([30, 8, 5, 64]), \n",
      "values.size(): torch.Size([30, 8, 5, 64]), attention.size:torch.Size([30, 8, 5, 5]) \n",
      "values.size(): torch.Size([30, 5, 512])\n",
      "out.size(): torch.Size([30, 5, 512])\n"
     ]
    }
   ],
   "source": [
    "input_dim = 1024\n",
    "d_model = 512\n",
    "num_heads = 8\n",
    "\n",
    "batch_size = 30\n",
    "sequence_length = 5\n",
    "x = torch.randn( (batch_size, sequence_length, input_dim) )\n",
    "\n",
    "model = MultiheadAttention(input_dim, d_model, num_heads)\n",
    "out = model.forward(x)"
   ]
  },
  {
   "cell_type": "code",
   "execution_count": null,
   "id": "c22c0e7d",
   "metadata": {
    "papermill": {
     "duration": 0.013922,
     "end_time": "2024-07-20T09:06:04.542186",
     "exception": false,
     "start_time": "2024-07-20T09:06:04.528264",
     "status": "completed"
    },
    "tags": []
   },
   "outputs": [],
   "source": []
  }
 ],
 "metadata": {
  "kaggle": {
   "accelerator": "none",
   "dataSources": [],
   "dockerImageVersionId": 30746,
   "isGpuEnabled": false,
   "isInternetEnabled": true,
   "language": "python",
   "sourceType": "notebook"
  },
  "kernelspec": {
   "display_name": "Python 3",
   "language": "python",
   "name": "python3"
  },
  "language_info": {
   "codemirror_mode": {
    "name": "ipython",
    "version": 3
   },
   "file_extension": ".py",
   "mimetype": "text/x-python",
   "name": "python",
   "nbconvert_exporter": "python",
   "pygments_lexer": "ipython3",
   "version": "3.10.13"
  },
  "papermill": {
   "default_parameters": {},
   "duration": 10.103262,
   "end_time": "2024-07-20T09:06:05.479758",
   "environment_variables": {},
   "exception": null,
   "input_path": "__notebook__.ipynb",
   "output_path": "__notebook__.ipynb",
   "parameters": {},
   "start_time": "2024-07-20T09:05:55.376496",
   "version": "2.5.0"
  }
 },
 "nbformat": 4,
 "nbformat_minor": 5
}
